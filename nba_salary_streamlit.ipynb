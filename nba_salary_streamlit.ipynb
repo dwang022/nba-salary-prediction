{
 "cells": [
  {
   "cell_type": "code",
   "execution_count": null,
   "id": "f3560bb5-0a05-4a4a-8601-7aa14dd3920b",
   "metadata": {
    "tags": []
   },
   "outputs": [
    {
     "name": "stdout",
     "output_type": "stream",
     "text": [
      "\u001b[0m\n",
      "\u001b[34m\u001b[1m  You can now view your Streamlit app in your browser.\u001b[0m\n",
      "\u001b[0m\n",
      "\u001b[34m  Local URL: \u001b[0m\u001b[1mhttp://localhost:8501\u001b[0m\n",
      "\u001b[34m  Network URL: \u001b[0m\u001b[1mhttp://192.168.1.43:8501\u001b[0m\n",
      "\u001b[0m\n"
     ]
    }
   ],
   "source": [
    "import streamlit as st\n",
    "\n",
    "code = \"\"\"\n",
    "import streamlit as st\n",
    "import pandas as pd\n",
    "from sklearn.model_selection import train_test_split\n",
    "from sklearn.preprocessing import StandardScaler\n",
    "from sklearn.ensemble import RandomForestRegressor\n",
    "from sklearn.pipeline import make_pipeline\n",
    "from sklearn.linear_model import Ridge\n",
    "from sklearn.ensemble import StackingRegressor\n",
    "\n",
    "# Load data\n",
    "nba_data_all = pd.read_csv(\"nba_2022-23_all_stats_with_salary3.csv\")\n",
    "\n",
    "# Select relevant columns\n",
    "nba_data7 = nba_data_all[[\"Salary\", \"PTS\", \"AST\", \"TRB\", \"Age\"]]\n",
    "\n",
    "# Split data\n",
    "seed = 123\n",
    "train_data7, test_data7 = train_test_split(nba_data7, test_size=0.2, random_state=seed)\n",
    "\n",
    "# Preprocess\n",
    "preProcValues7 = StandardScaler().fit(train_data7[[\"PTS\", \"AST\", \"TRB\", \"Age\"]])\n",
    "train_data_scaled7 = preProcValues7.transform(train_data7[[\"PTS\", \"AST\", \"TRB\", \"Age\"]])\n",
    "test_data_scaled7 = preProcValues7.transform(test_data7[[\"PTS\", \"AST\", \"TRB\", \"Age\"]])\n",
    "\n",
    "# Build Random Forest and Ridge model\n",
    "ridge_model7 = Ridge()\n",
    "ridge_model7.fit(train_data_scaled7, train_data7[\"Salary\"])\n",
    "\n",
    "rf_model7 = RandomForestRegressor()\n",
    "rf_model7.fit(train_data_scaled7, train_data7[\"Salary\"])\n",
    "\n",
    "# Create a stacking model\n",
    "estimators = [\n",
    "    ('ridge', ridge_model7),\n",
    "    ('random_forest', rf_model7)\n",
    "]\n",
    "\n",
    "stacking_model = StackingRegressor(estimators=estimators, final_estimator=Ridge())\n",
    "\n",
    "# Fit the stacking model\n",
    "stacking_model.fit(train_data_scaled7, train_data7[\"Salary\"])\n",
    "\n",
    "\n",
    "# Streamlit App\n",
    "st.set_page_config(page_title=\"NBA Salary Prediction App\", layout=\"wide\")\n",
    "\n",
    "# Streamlit app\n",
    "st.title(\"NBA Player Salary Prediction (2022-23)\")\n",
    "\n",
    "# User input\n",
    "st.header(\"User Input Features\")\n",
    "points = st.number_input(\"Points:\", value=20)\n",
    "assists = st.number_input(\"Assists:\", value=5)\n",
    "rebounds = st.number_input(\"Rebounds:\", value=5)\n",
    "age = st.number_input(\"Age:\", value=30)\n",
    "\n",
    "# Create a DataFrame with named features for the user input\n",
    "user_input_df = pd.DataFrame({\n",
    "    'PTS': [points],\n",
    "    'AST': [assists],\n",
    "    'TRB': [rebounds],\n",
    "    'Age': [age]\n",
    "})\n",
    "\n",
    "# Preprocess user input using the same scaler\n",
    "new_data_scaled = preProcValues7.transform(user_input_df)\n",
    "\n",
    "# Predict salary using the Random Forest model\n",
    "predicted_salary = stacking_model.predict(new_data_scaled)\n",
    "\n",
    "\n",
    "# Display predicted salary with commas\n",
    "formatted_salary = f\"${predicted_salary[0]:,.2f}\"\n",
    "st.subheader(\"Predicted Salary\")\n",
    "st.write(f\"The predicted NBA salary is: {formatted_salary}\")\n",
    "\n",
    "\"\"\"\n",
    "\n",
    "\n",
    "with open(\"my_streamlit_app.py\", \"w\") as f:\n",
    "    f.write(code)\n",
    "\n",
    "# Run the Streamlit app\n",
    "!streamlit run my_streamlit_app.py\n"
   ]
  },
  {
   "cell_type": "code",
   "execution_count": 1,
   "id": "b046ca5b-30fe-4608-8d82-5dd837d9145c",
   "metadata": {
    "tags": []
   },
   "outputs": [
    {
     "name": "stdout",
     "output_type": "stream",
     "text": [
      "/Users/dwang\n"
     ]
    }
   ],
   "source": [
    "import os\n",
    "print(os.getcwd())"
   ]
  },
  {
   "cell_type": "code",
   "execution_count": 1,
   "id": "661824b6-686a-4253-a78e-5c49cda4af56",
   "metadata": {
    "tags": []
   },
   "outputs": [
    {
     "name": "stdout",
     "output_type": "stream",
     "text": [
      "/Users/dwang/Desktop/jupyter\n"
     ]
    }
   ],
   "source": [
    "%cd /Users/dwang/Desktop/jupyter"
   ]
  },
  {
   "cell_type": "code",
   "execution_count": null,
   "id": "1f791a6c-82ba-40f5-bbe5-09fa280701c1",
   "metadata": {},
   "outputs": [],
   "source": []
  }
 ],
 "metadata": {
  "kernelspec": {
   "display_name": "Python 3 (ipykernel)",
   "language": "python",
   "name": "python3"
  },
  "language_info": {
   "codemirror_mode": {
    "name": "ipython",
    "version": 3
   },
   "file_extension": ".py",
   "mimetype": "text/x-python",
   "name": "python",
   "nbconvert_exporter": "python",
   "pygments_lexer": "ipython3",
   "version": "3.11.5"
  }
 },
 "nbformat": 4,
 "nbformat_minor": 5
}
